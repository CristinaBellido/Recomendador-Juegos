{
 "cells": [
  {
   "cell_type": "markdown",
   "id": "26b38fbd",
   "metadata": {},
   "source": [
    "# Imports"
   ]
  },
  {
   "cell_type": "code",
   "execution_count": null,
   "id": "acb14023",
   "metadata": {},
   "outputs": [],
   "source": [
    "import pandas as pd\n",
    "from sklearn.metrics.pairwise import cosine_similarity\n",
    "from sklearn.feature_extraction.text import TfidfVectorizer\n"
   ]
  },
  {
   "cell_type": "markdown",
   "id": "bb42bae3",
   "metadata": {},
   "source": [
    "# Files"
   ]
  },
  {
   "cell_type": "code",
   "execution_count": null,
   "id": "8c0183db",
   "metadata": {},
   "outputs": [],
   "source": [
    "df = pd.read_csv(\"moviles_web_scraping.csv\")\n"
   ]
  },
  {
   "cell_type": "markdown",
   "id": "1fb1eaa7",
   "metadata": {},
   "source": [
    "# Recomendador\n"
   ]
  },
  {
   "cell_type": "code",
   "execution_count": 1,
   "id": "71b66fb0",
   "metadata": {},
   "outputs": [],
   "source": [
    "specs_list = [\"marca\", \"modelo\", \"pantalla\", \"resolucion\", \"camara\", \"bateria\"]\n"
   ]
  },
  {
   "cell_type": "code",
   "execution_count": 2,
   "id": "1287a07a",
   "metadata": {},
   "outputs": [],
   "source": [
    "def get_user_input():\n",
    "    user_mobiles = []\n",
    "    user_specs = {}\n",
    "    \n",
    "    # Pedir al usuario sus móviles previos\n",
    "    print(\"Introduzca los móviles que ha tenido anteriormente:\")\n",
    "    for i in range(3):\n",
    "        mobile = input(f\"Móvil {i+1}: \")\n",
    "        user_mobiles.append(mobile)\n",
    "    \n",
    "    # Pedir al usuario sus características preferidas\n",
    "    print(\"\\n¿Qué características son más importantes para usted?\")\n",
    "    for spec in specs_list:\n",
    "        value = input(f\"{spec} (1-5): \")\n",
    "        user_specs[spec] = value\n",
    "    \n",
    "    # Crear un dataframe con los móviles del usuario y sus características\n",
    "    user_df = df[df[\"mobile\"].isin(user_mobiles)].drop_duplicates().reset_index(drop=True)\n",
    "    for spec in specs_list:\n",
    "        user_df[spec] = user_specs[spec]\n",
    "    \n",
    "    # Crear un dataframe con los móviles restantes de la base de datos\n",
    "    rest_df = df[~df[\"mobile\"].isin(user_mobiles)].reset_index(drop=True)\n",
    "    \n",
    "    return user_df, rest_df\n"
   ]
  },
  {
   "cell_type": "code",
   "execution_count": 3,
   "id": "365ad509",
   "metadata": {},
   "outputs": [
    {
     "name": "stdout",
     "output_type": "stream",
     "text": [
      "Introduzca los móviles que ha tenido anteriormente:\n",
      "Móvil 1: Samsung\n",
      "Móvil 2: Apple\n",
      "Móvil 3: Nexus\n",
      "\n",
      "¿Qué características son más importantes para usted?\n",
      "marca (1-5): 5\n",
      "modelo (1-5): 1\n",
      "pantalla (1-5): 2\n",
      "resolucion (1-5): 3\n",
      "camara (1-5): 4\n",
      "bateria (1-5): 2\n"
     ]
    },
    {
     "ename": "NameError",
     "evalue": "name 'df' is not defined",
     "output_type": "error",
     "traceback": [
      "\u001b[1;31m---------------------------------------------------------------------------\u001b[0m",
      "\u001b[1;31mNameError\u001b[0m                                 Traceback (most recent call last)",
      "\u001b[1;32m~\\AppData\\Local\\Temp\\ipykernel_5320\\1107083480.py\u001b[0m in \u001b[0;36m<module>\u001b[1;34m\u001b[0m\n\u001b[1;32m----> 1\u001b[1;33m \u001b[0mget_user_input\u001b[0m\u001b[1;33m(\u001b[0m\u001b[1;33m)\u001b[0m\u001b[1;33m\u001b[0m\u001b[1;33m\u001b[0m\u001b[0m\n\u001b[0m",
      "\u001b[1;32m~\\AppData\\Local\\Temp\\ipykernel_5320\\431347806.py\u001b[0m in \u001b[0;36mget_user_input\u001b[1;34m()\u001b[0m\n\u001b[0;32m     16\u001b[0m \u001b[1;33m\u001b[0m\u001b[0m\n\u001b[0;32m     17\u001b[0m     \u001b[1;31m# Crear un dataframe con los móviles del usuario y sus características\u001b[0m\u001b[1;33m\u001b[0m\u001b[1;33m\u001b[0m\u001b[0m\n\u001b[1;32m---> 18\u001b[1;33m     \u001b[0muser_df\u001b[0m \u001b[1;33m=\u001b[0m \u001b[0mdf\u001b[0m\u001b[1;33m[\u001b[0m\u001b[0mdf\u001b[0m\u001b[1;33m[\u001b[0m\u001b[1;34m\"mobile\"\u001b[0m\u001b[1;33m]\u001b[0m\u001b[1;33m.\u001b[0m\u001b[0misin\u001b[0m\u001b[1;33m(\u001b[0m\u001b[0muser_mobiles\u001b[0m\u001b[1;33m)\u001b[0m\u001b[1;33m]\u001b[0m\u001b[1;33m.\u001b[0m\u001b[0mdrop_duplicates\u001b[0m\u001b[1;33m(\u001b[0m\u001b[1;33m)\u001b[0m\u001b[1;33m.\u001b[0m\u001b[0mreset_index\u001b[0m\u001b[1;33m(\u001b[0m\u001b[0mdrop\u001b[0m\u001b[1;33m=\u001b[0m\u001b[1;32mTrue\u001b[0m\u001b[1;33m)\u001b[0m\u001b[1;33m\u001b[0m\u001b[1;33m\u001b[0m\u001b[0m\n\u001b[0m\u001b[0;32m     19\u001b[0m     \u001b[1;32mfor\u001b[0m \u001b[0mspec\u001b[0m \u001b[1;32min\u001b[0m \u001b[0mspecs_list\u001b[0m\u001b[1;33m:\u001b[0m\u001b[1;33m\u001b[0m\u001b[1;33m\u001b[0m\u001b[0m\n\u001b[0;32m     20\u001b[0m         \u001b[0muser_df\u001b[0m\u001b[1;33m[\u001b[0m\u001b[0mspec\u001b[0m\u001b[1;33m]\u001b[0m \u001b[1;33m=\u001b[0m \u001b[0muser_specs\u001b[0m\u001b[1;33m[\u001b[0m\u001b[0mspec\u001b[0m\u001b[1;33m]\u001b[0m\u001b[1;33m\u001b[0m\u001b[1;33m\u001b[0m\u001b[0m\n",
      "\u001b[1;31mNameError\u001b[0m: name 'df' is not defined"
     ]
    }
   ],
   "source": [
    "get_user_input()"
   ]
  },
  {
   "cell_type": "code",
   "execution_count": null,
   "id": "6fc11fe6",
   "metadata": {},
   "outputs": [],
   "source": []
  }
 ],
 "metadata": {
  "kernelspec": {
   "display_name": "Python 3 (ipykernel)",
   "language": "python",
   "name": "python3"
  },
  "language_info": {
   "codemirror_mode": {
    "name": "ipython",
    "version": 3
   },
   "file_extension": ".py",
   "mimetype": "text/x-python",
   "name": "python",
   "nbconvert_exporter": "python",
   "pygments_lexer": "ipython3",
   "version": "3.9.13"
  }
 },
 "nbformat": 4,
 "nbformat_minor": 5
}
