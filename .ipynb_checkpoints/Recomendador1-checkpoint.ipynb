{
 "cells": [
  {
   "cell_type": "markdown",
   "id": "26b38fbd",
   "metadata": {},
   "source": [
    "# Imports"
   ]
  },
  {
   "cell_type": "code",
   "execution_count": 1,
   "id": "acb14023",
   "metadata": {},
   "outputs": [],
   "source": [
    "import pandas as pd\n",
    "from sklearn.metrics.pairwise import cosine_similarity\n",
    "from sklearn.feature_extraction.text import CountVectorizer"
   ]
  },
  {
   "cell_type": "markdown",
   "id": "bb42bae3",
   "metadata": {},
   "source": [
    "# Files"
   ]
  },
  {
   "cell_type": "code",
   "execution_count": 2,
   "id": "8c0183db",
   "metadata": {},
   "outputs": [],
   "source": [
    "df = pd.read_pickle(\"finaljuegos.pkl\", compression=\"gzip\")\n"
   ]
  },
  {
   "cell_type": "code",
   "execution_count": null,
   "id": "a6fd6455",
   "metadata": {},
   "outputs": [],
   "source": [
    "df[20]"
   ]
  },
  {
   "cell_type": "markdown",
   "id": "1fb1eaa7",
   "metadata": {},
   "source": [
    "# Preprocesamiento\n",
    "\n"
   ]
  },
  {
   "cell_type": "code",
   "execution_count": 4,
   "id": "e0ad7760",
   "metadata": {},
   "outputs": [],
   "source": [
    "# Convertir la columna 'name' a minúsculas \n",
    "df['name'] = df['name'].str.lower().fillna('')\n",
    "\n",
    "# Convertir la lista de cadenas 'tag_names' a una cadena \n",
    "df['tag_names'] = df['tag_names'].fillna('').apply(lambda x: ' '.join(x))\n",
    "\n",
    "# Aplicar CountVectorizer a las columnas 'name' y 'tag_names'\n",
    "corpus = df[['name', 'tag_names']].apply(lambda x: ' '.join(x.astype(str)), axis=1)\n",
    "vectorizer = CountVectorizer()\n",
    "X = vectorizer.fit_transform(corpus)\n",
    "\n",
    "# Seleccionar las columnas relevantes para el cálculo de cosine similarity\n",
    "cols_to_exclude = ['release', 'background_image', 'rating', 'playtime']\n",
    "cols_to_include = [i for i, col in enumerate(df.columns) if col not in cols_to_exclude]\n",
    "X = X[:, cols_to_include]\n",
    "\n",
    "# Calcular cosine similarity\n",
    "cos_sim_matrix = cosine_similarity(X)\n"
   ]
  },
  {
   "cell_type": "code",
   "execution_count": 5,
   "id": "45dfaa79",
   "metadata": {},
   "outputs": [
    {
     "data": {
      "text/plain": [
       "[0,\n",
       " 1,\n",
       " 2,\n",
       " 6,\n",
       " 7,\n",
       " 8,\n",
       " 9,\n",
       " 10,\n",
       " 11,\n",
       " 12,\n",
       " 13,\n",
       " 14,\n",
       " 15,\n",
       " 16,\n",
       " 17,\n",
       " 18,\n",
       " 19,\n",
       " 20,\n",
       " 21,\n",
       " 22,\n",
       " 23,\n",
       " 24,\n",
       " 25,\n",
       " 26,\n",
       " 27,\n",
       " 28,\n",
       " 29,\n",
       " 30,\n",
       " 31,\n",
       " 32,\n",
       " 33,\n",
       " 34,\n",
       " 35,\n",
       " 36,\n",
       " 37,\n",
       " 38,\n",
       " 39,\n",
       " 40,\n",
       " 41,\n",
       " 42,\n",
       " 43,\n",
       " 44,\n",
       " 45,\n",
       " 46,\n",
       " 47,\n",
       " 48,\n",
       " 49,\n",
       " 50,\n",
       " 51,\n",
       " 52,\n",
       " 53,\n",
       " 54,\n",
       " 55,\n",
       " 56,\n",
       " 57,\n",
       " 58,\n",
       " 59,\n",
       " 60,\n",
       " 61,\n",
       " 62]"
      ]
     },
     "execution_count": 5,
     "metadata": {},
     "output_type": "execute_result"
    }
   ],
   "source": [
    "cols_to_include\n"
   ]
  },
  {
   "cell_type": "markdown",
   "id": "2d9abb0d",
   "metadata": {},
   "source": [
    "# Recomendador"
   ]
  },
  {
   "cell_type": "code",
   "execution_count": 7,
   "id": "27d5edeb",
   "metadata": {},
   "outputs": [],
   "source": [
    "def recomendar_juego(df=df, similarity_matrix=cos_sim_matrix, n=3):\n",
    "    juego = input(\"Introduce el nombre del juego: \")\n",
    "    \n",
    "    # Verificamos si el juego está en el dataframe\n",
    "    if juego not in list(df['name']):\n",
    "        print(\"Por favor, introduce un nombre válido.\")\n",
    "        return\n",
    "    \n",
    "    # Encontramos el índice del juego de entrada en el dataframe\n",
    "    idx = df[df['name']==juego].index[0]\n",
    "    \n",
    "    # Obtenemos las puntuaciones de similitud coseno del juego de entrada con todos los demás juegos\n",
    "    scores = list(enumerate(similarity_matrix[idx]))\n",
    "    \n",
    "    # Ordenamos los juegos por similitud, de mayor a menor\n",
    "    sorted_scores = sorted(scores, key=lambda x: x[1], reverse=True)\n",
    "    \n",
    "    # Seleccionamos los n juegos más similares (excluyendo el propio juego de entrada)\n",
    "    top_n = [df.iloc[i[0]] for i in sorted_scores[1:n+1]]\n",
    "    \n",
    "    # Devolvemos los nombres, las puntuaciones y las imágenes de fondo de los n juegos más similares\n",
    "    return [(juego['name'], juego['rating'], juego['background_image']) for juego in top_n]\n"
   ]
  },
  {
   "cell_type": "code",
   "execution_count": null,
   "id": "4c280180",
   "metadata": {},
   "outputs": [],
   "source": [
    "recomendar_juego()\n"
   ]
  },
  {
   "cell_type": "code",
   "execution_count": null,
   "id": "ab29bbcb",
   "metadata": {},
   "outputs": [],
   "source": []
  }
 ],
 "metadata": {
  "kernelspec": {
   "display_name": "Python 3 (ipykernel)",
   "language": "python",
   "name": "python3"
  },
  "language_info": {
   "codemirror_mode": {
    "name": "ipython",
    "version": 3
   },
   "file_extension": ".py",
   "mimetype": "text/x-python",
   "name": "python",
   "nbconvert_exporter": "python",
   "pygments_lexer": "ipython3",
   "version": "3.9.13"
  }
 },
 "nbformat": 4,
 "nbformat_minor": 5
}
