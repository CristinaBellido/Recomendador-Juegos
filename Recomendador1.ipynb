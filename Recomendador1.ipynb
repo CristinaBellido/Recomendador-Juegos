{
 "cells": [
  {
   "cell_type": "markdown",
   "id": "26b38fbd",
   "metadata": {},
   "source": [
    "# Imports"
   ]
  },
  {
   "cell_type": "code",
   "execution_count": 1,
   "id": "acb14023",
   "metadata": {},
   "outputs": [],
   "source": [
    "import pandas as pd\n",
    "from sklearn.metrics.pairwise import cosine_similarity\n",
    "from sklearn.feature_extraction.text import CountVectorizer"
   ]
  },
  {
   "cell_type": "markdown",
   "id": "bb42bae3",
   "metadata": {},
   "source": [
    "# Files"
   ]
  },
  {
   "cell_type": "code",
   "execution_count": 2,
   "id": "8c0183db",
   "metadata": {},
   "outputs": [],
   "source": [
    "df = pd.read_pickle(\"finaljuegos.pkl\", compression=\"gzip\")\n"
   ]
  },
  {
   "cell_type": "code",
   "execution_count": 3,
   "id": "a6fd6455",
   "metadata": {},
   "outputs": [
    {
     "data": {
      "text/plain": [
       "0    ['Singleplayer', 'Steam Achievements', 'Multip...\n",
       "1    ['Singleplayer', 'Atmospheric', 'Great Soundtr...\n",
       "2    ['Singleplayer', 'Multiplayer', 'Atmospheric',...\n",
       "3    ['Singleplayer', 'Steam Achievements', 'Multip...\n",
       "4    ['Multiplayer', 'steamtradingcards', 'RPG', 'C...\n",
       "5    ['Singleplayer', 'Atmospheric', 'Great Soundtr...\n",
       "6    ['Singleplayer', 'Steam Achievements', 'Multip...\n",
       "7    ['Singleplayer', 'Multiplayer', 'steamtradingc...\n",
       "8    ['Singleplayer', 'Steam Achievements', 'Full c...\n",
       "9    ['Singleplayer', 'Steam Achievements', 'Multip...\n",
       "Name: tag_names, dtype: object"
      ]
     },
     "execution_count": 3,
     "metadata": {},
     "output_type": "execute_result"
    }
   ],
   "source": [
    "df.head(10)[\"tag_names\"]"
   ]
  },
  {
   "cell_type": "markdown",
   "id": "1fb1eaa7",
   "metadata": {},
   "source": [
    "# Preprocesamiento\n",
    "\n"
   ]
  },
  {
   "cell_type": "markdown",
   "id": "82e9a7bf",
   "metadata": {},
   "source": [
    "No consigo hacer que \"tag_names\" pase a ser una cadena separada por comas. Asi que hice todo sin \"tag_names\""
   ]
  },
  {
   "cell_type": "code",
   "execution_count": 7,
   "id": "e0ad7760",
   "metadata": {},
   "outputs": [],
   "source": [
    "# Convertir la columna 'name' a minúsculas \n",
    "df['name'] = df['name'].str.lower().fillna('')\n",
    "\n",
    "# Convertir la lista de cadenas 'tag_names' a una cadena \n",
    "#df['tag_names'] = df.tag_names.apply(lambda x: ','.join([str(i) for i in x]))"
   ]
  },
  {
   "cell_type": "code",
   "execution_count": null,
   "id": "fc9621b8",
   "metadata": {},
   "outputs": [],
   "source": [
    "# Aplicar CountVectorizer a las columnas 'name' y 'tag_names' y agregar las matrices resultantes al dataframe\n",
    "corpus_name = df['name']\n",
    "#corpus_tag_names = df['tag_names']\n",
    "vectorizer = CountVectorizer()\n",
    "X_name = vectorizer.fit_transform(corpus_name)\n",
    "#X_tag_names = vectorizer.fit_transform(corpus_tag_names)\n",
    "df_cv = pd.concat([pd.DataFrame(X_name.toarray(), columns=[f\"name_cv_{i}\" for i in range(X_name.shape[1])]), \n",
    "                   df],\n",
    "                  axis=1)\n",
    "\n"
   ]
  },
  {
   "cell_type": "code",
   "execution_count": 4,
   "id": "d949ff11",
   "metadata": {},
   "outputs": [],
   "source": [
    "# Seleccionar las columnas relevantes para el cálculo de cosine similarity\n",
    "cols_to_exclude = [\"name\", \"tag_names\", \"rating\", \"playtime\", \"released\", \"background_image\"]\n",
    "cols_to_include = [col for col in df.columns if col not in cols_to_exclude]\n",
    "X = df[cols_to_include].values\n",
    "\n",
    "# Calcular cosine similarity\n",
    "cos_sim_matrix = cosine_similarity(X)"
   ]
  },
  {
   "cell_type": "markdown",
   "id": "2d9abb0d",
   "metadata": {},
   "source": [
    "# Recomendador"
   ]
  },
  {
   "cell_type": "markdown",
   "id": "0c2d9575",
   "metadata": {},
   "source": [
    "Esta función consume mucha memoria."
   ]
  },
  {
   "cell_type": "code",
   "execution_count": null,
   "id": "27d5edeb",
   "metadata": {},
   "outputs": [],
   "source": [
    "def recomendar_juego(df=df, similarity_matrix=cos_sim_matrix, n=3):\n",
    "    juego = input(\"Introduce el nombre del juego: \")\n",
    "    \n",
    "    # Verificamos si el juego está en el dataframe\n",
    "    if juego not in list(df['name']):\n",
    "        print(\"Por favor, introduce un nombre válido.\")\n",
    "        return\n",
    "    \n",
    "    # Encontramos el índice del juego de entrada en el dataframe\n",
    "    idx = df[df['name']==juego].index[0]\n",
    "    \n",
    "    # Obtenemos las puntuaciones de similitud del juego de entrada con todos los demás juegos\n",
    "    scores = list(enumerate(similarity_matrix[idx]))\n",
    "    \n",
    "    # Ordenamos las puntuaciones de similitud de mayor a menor\n",
    "    scores = sorted(scores, key=lambda x: x[1], reverse=True)\n",
    "    \n",
    "    # Multiplicamos las puntuaciones de similitud por los valores de rating\n",
    "    weighted_scores = [(s[0], s[1]*df.loc[s[0], 'rating']) for s in scores]\n",
    "    \n",
    "    # Seleccionamos los n juegos más similares al juego de entrada (sin contar el mismo juego y los campos irrelevantes)\n",
    "    similar_games = [i[0] for i in weighted_scores[1:] if df.loc[i[0], 'name'] != juego and \n",
    "                     df.loc[i[0], 'name'] not in ['name', 'tag_names', 'rating', 'playtime', 'released', 'background_image']]\n",
    "    similar_games = similar_games[:n]\n",
    "    \n",
    "    # Mostramos los juegos recomendados\n",
    "    print(f\"Juegos recomendados para {juego}:\")\n",
    "    for i, (idx, score) in enumerate(sim_scores):\n",
    "        juego_recomendado = df.iloc[idx]['name']\n",
    "        rating_recomendado = df.iloc[idx]['rating']\n",
    "        imagen_recomendada = df.iloc[idx]['background_image']\n",
    "        print(f\"{i+1}. {juego_recomendado} (rating: {rating_recomendado})\")\n",
    "        print(f\"   Imagen: {imagen_recomendada}\")"
   ]
  },
  {
   "cell_type": "code",
   "execution_count": 9,
   "id": "4c280180",
   "metadata": {},
   "outputs": [
    {
     "ename": "NameError",
     "evalue": "name 'recomendar_juego' is not defined",
     "output_type": "error",
     "traceback": [
      "\u001b[1;31m---------------------------------------------------------------------------\u001b[0m",
      "\u001b[1;31mNameError\u001b[0m                                 Traceback (most recent call last)",
      "\u001b[1;32m~\\AppData\\Local\\Temp\\ipykernel_16740\\299321534.py\u001b[0m in \u001b[0;36m<module>\u001b[1;34m\u001b[0m\n\u001b[1;32m----> 1\u001b[1;33m \u001b[0mrecomendar_juego\u001b[0m\u001b[1;33m(\u001b[0m\u001b[1;33m)\u001b[0m\u001b[1;33m\u001b[0m\u001b[1;33m\u001b[0m\u001b[0m\n\u001b[0m",
      "\u001b[1;31mNameError\u001b[0m: name 'recomendar_juego' is not defined"
     ]
    }
   ],
   "source": [
    "recomendar_juego()\n"
   ]
  },
  {
   "cell_type": "markdown",
   "id": "d986aba7",
   "metadata": {},
   "source": [
    "Esta es sin uso del rating."
   ]
  },
  {
   "cell_type": "code",
   "execution_count": 5,
   "id": "ab29bbcb",
   "metadata": {},
   "outputs": [],
   "source": [
    "def recomendar_juego2(df=df, similarity_matrix=cos_sim_matrix, n=3):\n",
    "    juego = input(\"Introduce el nombre del juego: \")\n",
    "    \n",
    "    # Verificamos si el juego está en el dataframe\n",
    "    if juego not in list(df['name']):\n",
    "        print(\"Por favor, introduce un nombre válido.\")\n",
    "        return\n",
    "    \n",
    "    # Encontramos el índice del juego de entrada en el dataframe\n",
    "    idx = df[df['name']==juego].index[0]\n",
    "    \n",
    "    # Obtenemos las puntuaciones de similitud del juego de entrada con todos los demás juegos\n",
    "    scores = list(enumerate(similarity_matrix[idx]))\n",
    "    \n",
    "    # Ordenamos las puntuaciones de similitud de mayor a menor\n",
    "    scores = sorted(scores, key=lambda x: x[1], reverse=True)\n",
    "    \n",
    "    # Seleccionamos los n juegos más similares al juego de entrada (sin contar el mismo juego y los campos irrelevantes)\n",
    "    similar_games = [i[0] for i in scores[1:] if df.loc[i[0], 'name'] != juego and \n",
    "                     df.loc[i[0], 'name'] not in ['name', 'tag_names', 'rating', 'playtime', 'released', 'background_image']]\n",
    "    similar_games = similar_games[:n]\n",
    "    \n",
    "    # Mostramos los juegos recomendados\n",
    "    print(f\"Juegos recomendados para {juego}:\")\n",
    "    for i, idx in enumerate(similar_games):\n",
    "        juego_recomendado = df.iloc[idx]['name']\n",
    "        rating_recomendado = df.iloc[idx]['rating']\n",
    "        imagen_recomendada = df.iloc[idx]['background_image']\n",
    "        print(f\"{i+1}. {juego_recomendado} (rating: {rating_recomendado})\")\n",
    "        print(f\"   Imagen: {imagen_recomendada}\")\n"
   ]
  },
  {
   "cell_type": "code",
   "execution_count": 8,
   "id": "60ab9e88",
   "metadata": {},
   "outputs": [
    {
     "name": "stdout",
     "output_type": "stream",
     "text": [
      "Introduce el nombre del juego: payday 2\n"
     ]
    },
    {
     "ename": "KeyError",
     "evalue": "431",
     "output_type": "error",
     "traceback": [
      "\u001b[1;31m---------------------------------------------------------------------------\u001b[0m",
      "\u001b[1;31mKeyError\u001b[0m                                  Traceback (most recent call last)",
      "\u001b[1;32m~\\anaconda3\\lib\\site-packages\\pandas\\core\\indexes\\base.py\u001b[0m in \u001b[0;36mget_loc\u001b[1;34m(self, key, method, tolerance)\u001b[0m\n\u001b[0;32m   3628\u001b[0m             \u001b[1;32mtry\u001b[0m\u001b[1;33m:\u001b[0m\u001b[1;33m\u001b[0m\u001b[1;33m\u001b[0m\u001b[0m\n\u001b[1;32m-> 3629\u001b[1;33m                 \u001b[1;32mreturn\u001b[0m \u001b[0mself\u001b[0m\u001b[1;33m.\u001b[0m\u001b[0m_engine\u001b[0m\u001b[1;33m.\u001b[0m\u001b[0mget_loc\u001b[0m\u001b[1;33m(\u001b[0m\u001b[0mcasted_key\u001b[0m\u001b[1;33m)\u001b[0m\u001b[1;33m\u001b[0m\u001b[1;33m\u001b[0m\u001b[0m\n\u001b[0m\u001b[0;32m   3630\u001b[0m             \u001b[1;32mexcept\u001b[0m \u001b[0mKeyError\u001b[0m \u001b[1;32mas\u001b[0m \u001b[0merr\u001b[0m\u001b[1;33m:\u001b[0m\u001b[1;33m\u001b[0m\u001b[1;33m\u001b[0m\u001b[0m\n",
      "\u001b[1;32m~\\anaconda3\\lib\\site-packages\\pandas\\_libs\\index.pyx\u001b[0m in \u001b[0;36mpandas._libs.index.IndexEngine.get_loc\u001b[1;34m()\u001b[0m\n",
      "\u001b[1;32m~\\anaconda3\\lib\\site-packages\\pandas\\_libs\\index.pyx\u001b[0m in \u001b[0;36mpandas._libs.index.IndexEngine.get_loc\u001b[1;34m()\u001b[0m\n",
      "\u001b[1;32mpandas\\_libs\\hashtable_class_helper.pxi\u001b[0m in \u001b[0;36mpandas._libs.hashtable.Int64HashTable.get_item\u001b[1;34m()\u001b[0m\n",
      "\u001b[1;32mpandas\\_libs\\hashtable_class_helper.pxi\u001b[0m in \u001b[0;36mpandas._libs.hashtable.Int64HashTable.get_item\u001b[1;34m()\u001b[0m\n",
      "\u001b[1;31mKeyError\u001b[0m: 431",
      "\nThe above exception was the direct cause of the following exception:\n",
      "\u001b[1;31mKeyError\u001b[0m                                  Traceback (most recent call last)",
      "\u001b[1;32m~\\AppData\\Local\\Temp\\ipykernel_16740\\1535295563.py\u001b[0m in \u001b[0;36m<module>\u001b[1;34m\u001b[0m\n\u001b[1;32m----> 1\u001b[1;33m \u001b[0mrecomendar_juego2\u001b[0m\u001b[1;33m(\u001b[0m\u001b[1;33m)\u001b[0m\u001b[1;33m\u001b[0m\u001b[1;33m\u001b[0m\u001b[0m\n\u001b[0m",
      "\u001b[1;32m~\\AppData\\Local\\Temp\\ipykernel_16740\\3291321099.py\u001b[0m in \u001b[0;36mrecomendar_juego2\u001b[1;34m(df, similarity_matrix, n)\u001b[0m\n\u001b[0;32m     17\u001b[0m \u001b[1;33m\u001b[0m\u001b[0m\n\u001b[0;32m     18\u001b[0m     \u001b[1;31m# Seleccionamos los n juegos más similares al juego de entrada (sin contar el mismo juego y los campos irrelevantes)\u001b[0m\u001b[1;33m\u001b[0m\u001b[1;33m\u001b[0m\u001b[0m\n\u001b[1;32m---> 19\u001b[1;33m     similar_games = [i[0] for i in scores[1:] if df.loc[i[0], 'name'] != juego and \n\u001b[0m\u001b[0;32m     20\u001b[0m                      df.loc[i[0], 'name'] not in ['name', 'tag_names', 'rating', 'playtime', 'released', 'background_image']]\n\u001b[0;32m     21\u001b[0m     \u001b[0msimilar_games\u001b[0m \u001b[1;33m=\u001b[0m \u001b[0msimilar_games\u001b[0m\u001b[1;33m[\u001b[0m\u001b[1;33m:\u001b[0m\u001b[0mn\u001b[0m\u001b[1;33m]\u001b[0m\u001b[1;33m\u001b[0m\u001b[1;33m\u001b[0m\u001b[0m\n",
      "\u001b[1;32m~\\AppData\\Local\\Temp\\ipykernel_16740\\3291321099.py\u001b[0m in \u001b[0;36m<listcomp>\u001b[1;34m(.0)\u001b[0m\n\u001b[0;32m     17\u001b[0m \u001b[1;33m\u001b[0m\u001b[0m\n\u001b[0;32m     18\u001b[0m     \u001b[1;31m# Seleccionamos los n juegos más similares al juego de entrada (sin contar el mismo juego y los campos irrelevantes)\u001b[0m\u001b[1;33m\u001b[0m\u001b[1;33m\u001b[0m\u001b[0m\n\u001b[1;32m---> 19\u001b[1;33m     similar_games = [i[0] for i in scores[1:] if df.loc[i[0], 'name'] != juego and \n\u001b[0m\u001b[0;32m     20\u001b[0m                      df.loc[i[0], 'name'] not in ['name', 'tag_names', 'rating', 'playtime', 'released', 'background_image']]\n\u001b[0;32m     21\u001b[0m     \u001b[0msimilar_games\u001b[0m \u001b[1;33m=\u001b[0m \u001b[0msimilar_games\u001b[0m\u001b[1;33m[\u001b[0m\u001b[1;33m:\u001b[0m\u001b[0mn\u001b[0m\u001b[1;33m]\u001b[0m\u001b[1;33m\u001b[0m\u001b[1;33m\u001b[0m\u001b[0m\n",
      "\u001b[1;32m~\\anaconda3\\lib\\site-packages\\pandas\\core\\indexing.py\u001b[0m in \u001b[0;36m__getitem__\u001b[1;34m(self, key)\u001b[0m\n\u001b[0;32m    958\u001b[0m             \u001b[0mkey\u001b[0m \u001b[1;33m=\u001b[0m \u001b[0mtuple\u001b[0m\u001b[1;33m(\u001b[0m\u001b[0mcom\u001b[0m\u001b[1;33m.\u001b[0m\u001b[0mapply_if_callable\u001b[0m\u001b[1;33m(\u001b[0m\u001b[0mx\u001b[0m\u001b[1;33m,\u001b[0m \u001b[0mself\u001b[0m\u001b[1;33m.\u001b[0m\u001b[0mobj\u001b[0m\u001b[1;33m)\u001b[0m \u001b[1;32mfor\u001b[0m \u001b[0mx\u001b[0m \u001b[1;32min\u001b[0m \u001b[0mkey\u001b[0m\u001b[1;33m)\u001b[0m\u001b[1;33m\u001b[0m\u001b[1;33m\u001b[0m\u001b[0m\n\u001b[0;32m    959\u001b[0m             \u001b[1;32mif\u001b[0m \u001b[0mself\u001b[0m\u001b[1;33m.\u001b[0m\u001b[0m_is_scalar_access\u001b[0m\u001b[1;33m(\u001b[0m\u001b[0mkey\u001b[0m\u001b[1;33m)\u001b[0m\u001b[1;33m:\u001b[0m\u001b[1;33m\u001b[0m\u001b[1;33m\u001b[0m\u001b[0m\n\u001b[1;32m--> 960\u001b[1;33m                 \u001b[1;32mreturn\u001b[0m \u001b[0mself\u001b[0m\u001b[1;33m.\u001b[0m\u001b[0mobj\u001b[0m\u001b[1;33m.\u001b[0m\u001b[0m_get_value\u001b[0m\u001b[1;33m(\u001b[0m\u001b[1;33m*\u001b[0m\u001b[0mkey\u001b[0m\u001b[1;33m,\u001b[0m \u001b[0mtakeable\u001b[0m\u001b[1;33m=\u001b[0m\u001b[0mself\u001b[0m\u001b[1;33m.\u001b[0m\u001b[0m_takeable\u001b[0m\u001b[1;33m)\u001b[0m\u001b[1;33m\u001b[0m\u001b[1;33m\u001b[0m\u001b[0m\n\u001b[0m\u001b[0;32m    961\u001b[0m             \u001b[1;32mreturn\u001b[0m \u001b[0mself\u001b[0m\u001b[1;33m.\u001b[0m\u001b[0m_getitem_tuple\u001b[0m\u001b[1;33m(\u001b[0m\u001b[0mkey\u001b[0m\u001b[1;33m)\u001b[0m\u001b[1;33m\u001b[0m\u001b[1;33m\u001b[0m\u001b[0m\n\u001b[0;32m    962\u001b[0m         \u001b[1;32melse\u001b[0m\u001b[1;33m:\u001b[0m\u001b[1;33m\u001b[0m\u001b[1;33m\u001b[0m\u001b[0m\n",
      "\u001b[1;32m~\\anaconda3\\lib\\site-packages\\pandas\\core\\frame.py\u001b[0m in \u001b[0;36m_get_value\u001b[1;34m(self, index, col, takeable)\u001b[0m\n\u001b[0;32m   3620\u001b[0m             \u001b[1;31m#  results if our categories are integers that dont match our codes\u001b[0m\u001b[1;33m\u001b[0m\u001b[1;33m\u001b[0m\u001b[0m\n\u001b[0;32m   3621\u001b[0m             \u001b[1;31m# IntervalIndex: IntervalTree has no get_loc\u001b[0m\u001b[1;33m\u001b[0m\u001b[1;33m\u001b[0m\u001b[0m\n\u001b[1;32m-> 3622\u001b[1;33m             \u001b[0mrow\u001b[0m \u001b[1;33m=\u001b[0m \u001b[0mself\u001b[0m\u001b[1;33m.\u001b[0m\u001b[0mindex\u001b[0m\u001b[1;33m.\u001b[0m\u001b[0mget_loc\u001b[0m\u001b[1;33m(\u001b[0m\u001b[0mindex\u001b[0m\u001b[1;33m)\u001b[0m\u001b[1;33m\u001b[0m\u001b[1;33m\u001b[0m\u001b[0m\n\u001b[0m\u001b[0;32m   3623\u001b[0m             \u001b[1;32mreturn\u001b[0m \u001b[0mseries\u001b[0m\u001b[1;33m.\u001b[0m\u001b[0m_values\u001b[0m\u001b[1;33m[\u001b[0m\u001b[0mrow\u001b[0m\u001b[1;33m]\u001b[0m\u001b[1;33m\u001b[0m\u001b[1;33m\u001b[0m\u001b[0m\n\u001b[0;32m   3624\u001b[0m \u001b[1;33m\u001b[0m\u001b[0m\n",
      "\u001b[1;32m~\\anaconda3\\lib\\site-packages\\pandas\\core\\indexes\\base.py\u001b[0m in \u001b[0;36mget_loc\u001b[1;34m(self, key, method, tolerance)\u001b[0m\n\u001b[0;32m   3629\u001b[0m                 \u001b[1;32mreturn\u001b[0m \u001b[0mself\u001b[0m\u001b[1;33m.\u001b[0m\u001b[0m_engine\u001b[0m\u001b[1;33m.\u001b[0m\u001b[0mget_loc\u001b[0m\u001b[1;33m(\u001b[0m\u001b[0mcasted_key\u001b[0m\u001b[1;33m)\u001b[0m\u001b[1;33m\u001b[0m\u001b[1;33m\u001b[0m\u001b[0m\n\u001b[0;32m   3630\u001b[0m             \u001b[1;32mexcept\u001b[0m \u001b[0mKeyError\u001b[0m \u001b[1;32mas\u001b[0m \u001b[0merr\u001b[0m\u001b[1;33m:\u001b[0m\u001b[1;33m\u001b[0m\u001b[1;33m\u001b[0m\u001b[0m\n\u001b[1;32m-> 3631\u001b[1;33m                 \u001b[1;32mraise\u001b[0m \u001b[0mKeyError\u001b[0m\u001b[1;33m(\u001b[0m\u001b[0mkey\u001b[0m\u001b[1;33m)\u001b[0m \u001b[1;32mfrom\u001b[0m \u001b[0merr\u001b[0m\u001b[1;33m\u001b[0m\u001b[1;33m\u001b[0m\u001b[0m\n\u001b[0m\u001b[0;32m   3632\u001b[0m             \u001b[1;32mexcept\u001b[0m \u001b[0mTypeError\u001b[0m\u001b[1;33m:\u001b[0m\u001b[1;33m\u001b[0m\u001b[1;33m\u001b[0m\u001b[0m\n\u001b[0;32m   3633\u001b[0m                 \u001b[1;31m# If we have a listlike key, _check_indexing_error will raise\u001b[0m\u001b[1;33m\u001b[0m\u001b[1;33m\u001b[0m\u001b[0m\n",
      "\u001b[1;31mKeyError\u001b[0m: 431"
     ]
    }
   ],
   "source": [
    "recomendar_juego2()"
   ]
  },
  {
   "cell_type": "code",
   "execution_count": null,
   "id": "7a4f0983",
   "metadata": {},
   "outputs": [],
   "source": []
  }
 ],
 "metadata": {
  "kernelspec": {
   "display_name": "Python 3 (ipykernel)",
   "language": "python",
   "name": "python3"
  },
  "language_info": {
   "codemirror_mode": {
    "name": "ipython",
    "version": 3
   },
   "file_extension": ".py",
   "mimetype": "text/x-python",
   "name": "python",
   "nbconvert_exporter": "python",
   "pygments_lexer": "ipython3",
   "version": "3.9.13"
  }
 },
 "nbformat": 4,
 "nbformat_minor": 5
}
